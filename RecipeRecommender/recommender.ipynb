{
 "cells": [
  {
   "cell_type": "code",
   "execution_count": 1,
   "metadata": {},
   "outputs": [],
   "source": [
    "import pandas as pd\n",
    "import numpy as np\n",
    "import math\n",
    "from collections import Counter\n",
    "\n",
    "n = 160"
   ]
  },
  {
   "cell_type": "code",
   "execution_count": 2,
   "metadata": {},
   "outputs": [],
   "source": [
    "\n",
    "# Load the dataset from https://www.kaggle.com/datasets/saldenisov/recipenlg?resource=download\n",
    "recipes = pd.read_csv(\"full_dataset.csv\", nrows = n)\n",
    "\n",
    "# User ingredients\n",
    "user_ingredients = ['bite size shredded rice biscuits', 'brown sugar', 'milk', 'vanilla', 'nuts', 'butter', 'chicken', 'garlic', 'onion', 'pepper', 'salt', 'tomato', 'lemon']\n",
    "#print (recipes)\n",
    "\n",
    "recipe_ing = {}\n",
    "recipe_dict = {}\n",
    "for index, row in recipes.iterrows():\n",
    "    #print (row['NER'])\n",
    "    recipe_ing[index] = row['NER']\n",
    "    recipe_dict[index] = row['title']"
   ]
  },
  {
   "cell_type": "code",
   "execution_count": 3,
   "metadata": {},
   "outputs": [],
   "source": [
    "#standardize the format of each ingredient\n",
    "def clean_ingredient(ingredient):\n",
    "    ingredient = ingredient.lower()\n",
    "    while ingredient[0] != \"\\\"\":\n",
    "        ingredient = ingredient[1:]\n",
    "    while ingredient[-1] != \"\\\"\":\n",
    "        ingredient = ingredient[:-1]\n",
    "    return ingredient[1:-1]"
   ]
  },
  {
   "cell_type": "code",
   "execution_count": null,
   "metadata": {},
   "outputs": [],
   "source": [
    "#get the unique ingredients and the frequency of each ingredient\n",
    "\n",
    "ingredient_freq = Counter()\n",
    "\n",
    "i = 0\n",
    "add = True\n",
    "\n",
    "all_ing = set()\n",
    "for r in recipe_ing.values():\n",
    "    for ing in r.split(','):\n",
    "        ing = clean_ingredient(ing)\n",
    "        ingredient_freq[ing] += 1\n",
    "        all_ing.add(ing)\n",
    "        if ing == '+':\n",
    "            add = False\n",
    "    if add:\n",
    "        i += 1\n",
    "all_ing = sorted(list(all_ing))\n",
    "print(len(all_ing), len(ingredient_freq))\n",
    "ingredient_freq = sorted(ingredient_freq.items(), key=lambda x: x[0])\n",
    "\n",
    "print(recipe_ing[159])\n",
    "\n",
    "# Print the sorted ingredients and their frequencies\n",
    "print(i)"
   ]
  },
  {
   "cell_type": "code",
   "execution_count": null,
   "metadata": {},
   "outputs": [],
   "source": [
    "#calculate wieghts for each ingredient\n",
    "\n",
    "ingredient_weights = {}\n",
    "for ing, freq in ingredient_freq:\n",
    "    ingredient_weights[ing] = math.log(n/(freq + 1))\n",
    "print(ingredient_weights)"
   ]
  },
  {
   "cell_type": "code",
   "execution_count": 6,
   "metadata": {},
   "outputs": [],
   "source": [
    "def create_vector(recipe):\n",
    "    vector = []\n",
    "    for ingredient in all_ing:\n",
    "        if(ingredient in recipe):\n",
    "            vector.append(ingredient_weights[ingredient])\n",
    "        else:\n",
    "            vector.append(0)\n",
    "    return vector"
   ]
  },
  {
   "cell_type": "code",
   "execution_count": 7,
   "metadata": {},
   "outputs": [],
   "source": [
    "# Encode the recipes\n",
    "recipe_vectors = {}\n",
    "i = 0\n",
    "for ingredients in recipe_ing.items():\n",
    "    recipe_vectors[recipe_dict[i]] = create_vector(ingredients[1])\n",
    "    i += 1\n",
    "user_vector = create_vector(user_ingredients)"
   ]
  },
  {
   "cell_type": "code",
   "execution_count": 9,
   "metadata": {},
   "outputs": [],
   "source": [
    "def weighted_cos_sim(a, b):\n",
    "    # Compute weighted dot product\n",
    "    a = [float(ai) for ai in a]\n",
    "    b = [float(bi) for bi in b]\n",
    "    weights = [float(ingredient_weights[w]) for w in ingredient_weights]\n",
    "\n",
    "    dot_product = sum([w * ai * bi for ai, bi, w in zip(a, b, weights)])\n",
    "\n",
    "    # Compute weighted magnitudes\n",
    "    magnitude_a = math.sqrt(sum([w * ai**2 for ai, w in zip(a, weights)]))\n",
    "    magnitude_b = math.sqrt(sum([w * bi**2 for bi, w in zip(b, weights)]))\n",
    "\n",
    "    # Handle the case where either magnitude is zero (no common ingredients)\n",
    "    if magnitude_a == 0 or magnitude_b == 0:\n",
    "        return 0.0\n",
    "    \n",
    "    # Return the weighted cosine similarity\n",
    "    return dot_product / (magnitude_a * magnitude_b)"
   ]
  },
  {
   "cell_type": "code",
   "execution_count": null,
   "metadata": {},
   "outputs": [],
   "source": [
    "similarities = {}\n",
    "for recipe, vector in recipe_vectors.items():\n",
    "    similarity = weighted_cos_sim(user_vector, vector)\n",
    "    similarities[recipe] = similarity\n",
    "\n",
    "recipe_scores = sorted(similarities.items(), key=lambda x: x[1], reverse=True)\n",
    "\n",
    "print(\"Recommendations:\")\n",
    "for recipe, score in recipe_scores:\n",
    "    print(f\"{recipe}: {score:.4f}\")"
   ]
  }
 ],
 "metadata": {
  "kernelspec": {
   "display_name": "myenv",
   "language": "python",
   "name": "python3"
  },
  "language_info": {
   "codemirror_mode": {
    "name": "ipython",
    "version": 3
   },
   "file_extension": ".py",
   "mimetype": "text/x-python",
   "name": "python",
   "nbconvert_exporter": "python",
   "pygments_lexer": "ipython3",
   "version": "3.12.7"
  }
 },
 "nbformat": 4,
 "nbformat_minor": 2
}
