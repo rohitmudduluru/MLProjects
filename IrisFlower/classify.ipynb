{
 "cells": [
  {
   "cell_type": "code",
   "execution_count": 28,
   "metadata": {},
   "outputs": [],
   "source": [
    "import numpy as np\n",
    "import pandas as pd\n",
    "from sklearn.datasets import load_iris #using sklearn's built-in iris dataset\n",
    "from sklearn.model_selection import train_test_split\n",
    "from sklearn.linear_model import LinearRegression\n",
    "from sklearn.metrics import classification_report, confusion_matrix\n",
    "import matplotlib.pyplot as plt\n",
    "import seaborn as sns"
   ]
  },
  {
   "cell_type": "code",
   "execution_count": null,
   "metadata": {},
   "outputs": [],
   "source": [
    "# Get the data\n",
    "data = load_iris()\n",
    "x = data.data\n",
    "y = data.target\n",
    "\n",
    "#encode the categorical data a.k.a. the king of flower\n",
    "y_encoded = pd.get_dummies(y).values \n",
    "\n",
    "# Get the training and testing data\n",
    "x_train, x_test, y_train, y_test = train_test_split(x, y_encoded, test_size=0.2, random_state=42) #42 is the seed for shuffling\n",
    "\n",
    "#print some of the data\n",
    "# Display dataset details\n",
    "print(f\"Feature Names: {data.feature_names}\")\n",
    "print(f\"Target Names: {data.target_names}\")\n",
    "print(f\"Shape of dataset: {x_train.shape}\")\n",
    "print(f\"First 5 rows of features:\\n{x_train[:5]}\")\n",
    "print(f\"First 5 labels: {y_train[:5]}\")"
   ]
  },
  {
   "cell_type": "code",
   "execution_count": null,
   "metadata": {},
   "outputs": [],
   "source": [
    "#training\n",
    "model = LinearRegression()\n",
    "model.fit(x_train, y_train)"
   ]
  },
  {
   "cell_type": "code",
   "execution_count": null,
   "metadata": {},
   "outputs": [],
   "source": [
    "#test the model\n",
    "y_predictions = model.predict(x_test)\n",
    "\n",
    "#convert the predictions to 0, 1, 2 for the types of flower\n",
    "y_predictions = np.argmax(y_predictions, axis=1)\n",
    "y_test = np.argmax(y_test, axis=1)"
   ]
  },
  {
   "cell_type": "code",
   "execution_count": null,
   "metadata": {},
   "outputs": [],
   "source": [
    "#get the accuracy\n",
    "accuracy = np.mean(y_predictions == y_test)\n",
    "print(f\"Accuracy: {accuracy}\")\n",
    "classReport = classification_report(y_test, y_predictions)\n",
    "print(f\"Classification Report:\\n{classReport}\")\n",
    "\n",
    "#plot the confusion matrix\n",
    "confMatrix = confusion_matrix(y_test, y_predictions)\n",
    "plt.figure(figsize=(6, 4))\n",
    "sns.heatmap(confMatrix, annot=True)\n",
    "plt.xlabel('Predicted')\n",
    "plt.ylabel('Actual')\n",
    "plt.title('Confusion Matrix')\n",
    "plt.show()"
   ]
  }
 ],
 "metadata": {
  "kernelspec": {
   "display_name": "myenv",
   "language": "python",
   "name": "python3"
  },
  "language_info": {
   "codemirror_mode": {
    "name": "ipython",
    "version": 3
   },
   "file_extension": ".py",
   "mimetype": "text/x-python",
   "name": "python",
   "nbconvert_exporter": "python",
   "pygments_lexer": "ipython3",
   "version": "3.12.7"
  }
 },
 "nbformat": 4,
 "nbformat_minor": 2
}
